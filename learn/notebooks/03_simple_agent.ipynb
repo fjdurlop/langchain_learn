{
 "cells": [
  {
   "cell_type": "markdown",
   "metadata": {},
   "source": [
    "# Simple agent\n",
    "\n",
    "- search tool\n",
    "- bind search tool to LLM\n",
    "- Use output of tools to get final answer of model\n",
    "- streaming of tokens\n",
    "- memory using a thread_id"
   ]
  },
  {
   "cell_type": "code",
   "execution_count": 4,
   "metadata": {},
   "outputs": [],
   "source": [
    "import getpass\n",
    "import os\n",
    "\n",
    "if not os.environ.get(\"OPENAI_API_KEY\"):\n",
    "    os.environ[\"OPENAI_API_KEY\"] = getpass.getpass(\"Enter your OpenAI API key: \")\n",
    "\n",
    "\n",
    "os.environ.get(\"TAVILY_API_KEY=\")"
   ]
  },
  {
   "cell_type": "code",
   "execution_count": null,
   "metadata": {},
   "outputs": [],
   "source": [
    "import getpass\n",
    "import os\n",
    "\n",
    "os.environ[\"TAVILY_API_KEY\"] = getpass.getpass()"
   ]
  },
  {
   "cell_type": "code",
   "execution_count": 8,
   "metadata": {},
   "outputs": [],
   "source": [
    "# Import relevant functionality\n",
    "from langchain_anthropic import ChatAnthropic\n",
    "from langchain_openai import ChatOpenAI\n",
    "\n",
    "from langchain_community.tools.tavily_search import TavilySearchResults\n",
    "from langchain_core.messages import HumanMessage\n",
    "from langgraph.checkpoint.memory import MemorySaver\n",
    "from langgraph.prebuilt import create_react_agent\n",
    "\n",
    "# Create the agent\n",
    "memory = MemorySaver()\n",
    "#model = ChatAnthropic(model_name=\"claude-3-sonnet-20240229\")\n",
    "\n",
    "model = ChatOpenAI(\n",
    "    model=\"gpt-4o\",\n",
    "    temperature=0,\n",
    "    max_tokens=None,\n",
    "    timeout=None,\n",
    "    max_retries=2,\n",
    "    # api_key=\"...\",  # if you prefer to pass api key in directly instaed of using env vars\n",
    "    # base_url=\"...\",\n",
    "    # organization=\"...\",\n",
    "    # other params...\n",
    ")\n",
    "\n",
    "search = TavilySearchResults(max_results=2,)\n",
    "tools = [search]\n",
    "agent_executor = create_react_agent(model, tools, checkpointer=memory)"
   ]
  },
  {
   "cell_type": "code",
   "execution_count": 9,
   "metadata": {},
   "outputs": [
    {
     "name": "stdout",
     "output_type": "stream",
     "text": [
      "================================\u001b[1m Human Message \u001b[0m=================================\n",
      "\n",
      "hi im Paco! and i live in Barcelona\n",
      "==================================\u001b[1m Ai Message \u001b[0m==================================\n",
      "\n",
      "Hello Paco! It's great to meet you. How can I assist you today?\n"
     ]
    }
   ],
   "source": [
    "# Use the agent\n",
    "config = {\"configurable\": {\"thread_id\": \"abc123\"}}\n",
    "for step in agent_executor.stream(\n",
    "    {\"messages\": [HumanMessage(content=\"hi im Paco! and i live in Barcelona\")]},\n",
    "    config,\n",
    "    stream_mode=\"values\",\n",
    "):\n",
    "    step[\"messages\"][-1].pretty_print()"
   ]
  },
  {
   "cell_type": "code",
   "execution_count": 6,
   "metadata": {},
   "outputs": [],
   "source": []
  },
  {
   "cell_type": "code",
   "execution_count": 10,
   "metadata": {},
   "outputs": [
    {
     "name": "stdout",
     "output_type": "stream",
     "text": [
      "================================\u001b[1m Human Message \u001b[0m=================================\n",
      "\n",
      "whats the weather where I live?\n",
      "==================================\u001b[1m Ai Message \u001b[0m==================================\n",
      "Tool Calls:\n",
      "  tavily_search_results_json (call_ZeuuZJPCjNzF7lc6ZxdcwDCO)\n",
      " Call ID: call_ZeuuZJPCjNzF7lc6ZxdcwDCO\n",
      "  Args:\n",
      "    query: current weather in Barcelona\n",
      "=================================\u001b[1m Tool Message \u001b[0m=================================\n",
      "Name: tavily_search_results_json\n",
      "\n",
      "[{\"title\": \"Weather in Barcelona\", \"url\": \"https://www.weatherapi.com/\", \"content\": \"{'location': {'name': 'Barcelona', 'region': 'Catalonia', 'country': 'Spain', 'lat': 41.3833, 'lon': 2.1833, 'tz_id': 'Europe/Madrid', 'localtime_epoch': 1743095556, 'localtime': '2025-03-27 18:12'}, 'current': {'last_updated_epoch': 1743094800, 'last_updated': '2025-03-27 18:00', 'temp_c': 14.2, 'temp_f': 57.6, 'is_day': 1, 'condition': {'text': 'Partly cloudy', 'icon': '//cdn.weatherapi.com/weather/64x64/day/116.png', 'code': 1003}, 'wind_mph': 7.2, 'wind_kph': 11.5, 'wind_degree': 200, 'wind_dir': 'SSW', 'pressure_mb': 1013.0, 'pressure_in': 29.91, 'precip_mm': 0.0, 'precip_in': 0.0, 'humidity': 72, 'cloud': 50, 'feelslike_c': 13.5, 'feelslike_f': 56.2, 'windchill_c': 14.0, 'windchill_f': 57.3, 'heatindex_c': 14.7, 'heatindex_f': 58.4, 'dewpoint_c': 7.1, 'dewpoint_f': 44.8, 'vis_km': 8.0, 'vis_miles': 4.0, 'uv': 0.3, 'gust_mph': 9.1, 'gust_kph': 14.6}}\", \"score\": 0.747222}, {\"title\": \"10-Day Weather Forecast for Barcelona, Barcelona, Spain\", \"url\": \"https://weather.com/weather/tenday/l/15a6ad947775a7db2af7ce30fdf62def9c2d764127ac7b2db178053265e1bb70\", \"content\": \"recents\\n\\nWeather Forecasts\\n\\nRadar & Maps\\n\\nNews & Media\\n\\nProducts\\n\\nHealth & Wellness\\n\\nAccount\\n\\nLifestyle\\n\\nPrivacy\\n\\nSpecialty Forecasts\\n\\n10 Day Weather-Barcelona, Barcelona, Spain\\n\\nTonight\\n\\nThu 27 | Night\\n\\nPartly cloudy skies. Low 49F. Winds N at 5 to 10 mph.\\n\\nHeads-up\\n\\nSevere Storms Ahead Once Again For South, East\\n\\nFri 28\\n\\nFri 28 | Day\\n\\nA few passing clouds, otherwise generally sunny. High 62F. Winds SE at 5 to 10 mph.\\n\\nFri 28 | Night\\n\\nPartly cloudy. Low 48F. Winds N at 5 to 10 mph.\\n\\nSat 29\", \"score\": 0.7106489}]\n",
      "==================================\u001b[1m Ai Message \u001b[0m==================================\n",
      "\n",
      "Currently, in Barcelona, the weather is partly cloudy with a temperature of 14.2°C (57.6°F). The wind is coming from the south-southwest at 11.5 kph (7.2 mph), and the humidity is at 72%. It feels like 13.5°C (56.2°F) outside. Enjoy your day in Barcelona!\n"
     ]
    }
   ],
   "source": [
    "for step in agent_executor.stream(\n",
    "    {\"messages\": [HumanMessage(content=\"whats the weather where I live?\")]},\n",
    "    config,\n",
    "    stream_mode=\"values\",\n",
    "):\n",
    "    step[\"messages\"][-1].pretty_print()"
   ]
  },
  {
   "cell_type": "code",
   "execution_count": 7,
   "metadata": {},
   "outputs": [
    {
     "name": "stdout",
     "output_type": "stream",
     "text": [
      "[{'title': 'Weather in Mexico City', 'url': 'https://www.weatherapi.com/', 'content': \"{'location': {'name': 'Mexico City', 'region': 'The Federal District', 'country': 'Mexico', 'lat': 19.4285, 'lon': -99.1277, 'tz_id': 'America/Mexico_City', 'localtime_epoch': 1741788931, 'localtime': '2025-03-12 08:15'}, 'current': {'last_updated_epoch': 1741788000, 'last_updated': '2025-03-12 08:00', 'temp_c': 14.6, 'temp_f': 58.4, 'is_day': 1, 'condition': {'text': 'Sunny', 'icon': '//cdn.weatherapi.com/weather/64x64/day/113.png', 'code': 1000}, 'wind_mph': 2.2, 'wind_kph': 3.6, 'wind_degree': 201, 'wind_dir': 'SSW', 'pressure_mb': 1019.0, 'pressure_in': 30.08, 'precip_mm': 0.0, 'precip_in': 0.0, 'humidity': 63, 'cloud': 0, 'feelslike_c': 14.7, 'feelslike_f': 58.4, 'windchill_c': 14.7, 'windchill_f': 58.4, 'heatindex_c': 14.6, 'heatindex_f': 58.4, 'dewpoint_c': 6.4, 'dewpoint_f': 43.5, 'vis_km': 10.0, 'vis_miles': 6.0, 'uv': 1.1, 'gust_mph': 2.7, 'gust_kph': 4.3}}\", 'score': 0.909123}, {'title': 'Mexico City weather in March 2025 | Weather25.com', 'url': 'https://www.weather25.com/north-america/mexico/mexico-city?page=month&month=March', 'content': 'The temperatures in Mexico City in March are comfortable with low of 51°F and and high up to 78°F.', 'score': 0.8967681}]\n"
     ]
    }
   ],
   "source": [
    "from langchain_community.tools.tavily_search import TavilySearchResults\n",
    "\n",
    "# a search engine. \n",
    "\n",
    "search = TavilySearchResults(max_results=2)\n",
    "search_results = search.invoke(\"what is the weather in Mexico City\")\n",
    "print(search_results)\n",
    "# If we want, we can create other tools.\n",
    "# Once we have all the tools we want, we can put them in a list that we will reference later.\n",
    "tools = [search]"
   ]
  },
  {
   "cell_type": "code",
   "execution_count": 9,
   "metadata": {},
   "outputs": [],
   "source": [
    "import getpass\n",
    "import os\n",
    "\n",
    "if not os.environ.get(\"OPENAI_API_KEY\"):\n",
    "  os.environ[\"OPENAI_API_KEY\"] = getpass.getpass(\"Enter API key for OpenAI: \")\n",
    "\n",
    "from langchain.chat_models import init_chat_model\n",
    "\n",
    "model = init_chat_model(\"gpt-4\", model_provider=\"openai\")"
   ]
  },
  {
   "cell_type": "code",
   "execution_count": 10,
   "metadata": {},
   "outputs": [
    {
     "data": {
      "text/plain": [
       "'Hello! How can I assist you today?'"
      ]
     },
     "execution_count": 10,
     "metadata": {},
     "output_type": "execute_result"
    }
   ],
   "source": [
    "# calling a model\n",
    "\n",
    "from langchain_core.messages import HumanMessage\n",
    "\n",
    "response = model.invoke([HumanMessage(content=\"hi!\")])\n",
    "response.content"
   ]
  },
  {
   "cell_type": "code",
   "execution_count": 11,
   "metadata": {},
   "outputs": [],
   "source": [
    "model_with_tools = model.bind_tools(tools)"
   ]
  },
  {
   "cell_type": "code",
   "execution_count": 12,
   "metadata": {},
   "outputs": [
    {
     "name": "stdout",
     "output_type": "stream",
     "text": [
      "ContentString: Hello! How can I assist you today?\n",
      "ToolCalls: []\n"
     ]
    }
   ],
   "source": [
    "response = model_with_tools.invoke([HumanMessage(content=\"Hi!\")])\n",
    "\n",
    "print(f\"ContentString: {response.content}\")\n",
    "print(f\"ToolCalls: {response.tool_calls}\")"
   ]
  },
  {
   "cell_type": "code",
   "execution_count": 16,
   "metadata": {},
   "outputs": [
    {
     "name": "stdout",
     "output_type": "stream",
     "text": [
      "ContentString: \n",
      "ToolCalls: [{'name': 'tavily_search_results_json', 'args': {'query': 'current weather in Barcelona'}, 'id': 'call_rooKv9DOOz6wN7q5KzUgmvE7', 'type': 'tool_call'}]\n"
     ]
    }
   ],
   "source": [
    "# expected call to tool\n",
    "response = model_with_tools.invoke([HumanMessage(content=\"What's the weather in Barcelona?\")])\n",
    "\n",
    "print(f\"ContentString: {response.content}\")\n",
    "print(f\"ToolCalls: {response.tool_calls}\")"
   ]
  },
  {
   "cell_type": "code",
   "execution_count": 14,
   "metadata": {},
   "outputs": [
    {
     "data": {
      "text/plain": [
       "[TavilySearchResults(max_results=2, api_wrapper=TavilySearchAPIWrapper(tavily_api_key=SecretStr('**********')))]"
      ]
     },
     "execution_count": 14,
     "metadata": {},
     "output_type": "execute_result"
    }
   ],
   "source": [
    "tools"
   ]
  },
  {
   "cell_type": "code",
   "execution_count": null,
   "metadata": {},
   "outputs": [],
   "source": []
  }
 ],
 "metadata": {
  "kernelspec": {
   "display_name": "lang",
   "language": "python",
   "name": "python3"
  },
  "language_info": {
   "codemirror_mode": {
    "name": "ipython",
    "version": 3
   },
   "file_extension": ".py",
   "mimetype": "text/x-python",
   "name": "python",
   "nbconvert_exporter": "python",
   "pygments_lexer": "ipython3",
   "version": "3.10.16"
  }
 },
 "nbformat": 4,
 "nbformat_minor": 2
}
